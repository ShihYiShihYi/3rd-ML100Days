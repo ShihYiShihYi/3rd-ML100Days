{
 "cells": [
  {
   "cell_type": "code",
   "execution_count": 1,
   "metadata": {},
   "outputs": [
    {
     "ename": "IndentationError",
     "evalue": "expected an indented block (<ipython-input-1-95e42d49e479>, line 12)",
     "output_type": "error",
     "traceback": [
      "\u001b[1;36m  File \u001b[1;32m\"<ipython-input-1-95e42d49e479>\"\u001b[1;36m, line \u001b[1;32m12\u001b[0m\n\u001b[1;33m    w = 3\u001b[0m\n\u001b[1;37m    ^\u001b[0m\n\u001b[1;31mIndentationError\u001b[0m\u001b[1;31m:\u001b[0m expected an indented block\n"
     ]
    }
   ],
   "source": [
    "'''\n",
    "第一題\n",
    "'''\n",
    "\n",
    "mse = sum((y - yp)**2) / len(y)\n",
    "\n",
    "'''\n",
    "第二題:New York City Airbnb Open Data\n",
    "1. 你選的這組資料為何重要:可以從中了解紐約市區的房源\n",
    "\n",
    "2. 資料從何而來 :Airbnb網站所提供，房源上傳資料\n",
    "\n",
    "3. 蒐集而來的資料型態為何:結構化：表格、數值\n",
    "\n",
    "4. 這組資料想解決的問題如何評估:迴歸分析了解地區與房源的相關性\n",
    "\n",
    "\n",
    "\n",
    "想像你經營一個自由載客車隊，你希望能透過數據分析以提升業績，請你思考並描述你如何規劃整體的分析/解決方案：\n",
    "\n",
    "1. 核心問題為何 (tips：如何定義 「提升業績 & 你的假設」):在有限公司人數下載客量達到最高，且載客結束後行經路線可載客數最大\n",
    "\n",
    "2. 資料從何而來 (tips：哪些資料可能會對你想問的問題產生影響 & 資料如何蒐集):客人叫車時間與乘車地點\n",
    "\n",
    "3. 蒐集而來的資料型態為何:數值、表格\n",
    "\n",
    "4. 你要回答的問題，其如何評估 (tips：你的假設如何驗證):回歸分析客源、叫車時間、叫車地點與乘客流量相關性\n",
    "\n",
    "'''"
   ]
  },
  {
   "cell_type": "code",
   "execution_count": null,
   "metadata": {},
   "outputs": [],
   "source": []
  }
 ],
 "metadata": {
  "kernelspec": {
   "display_name": "Python 3",
   "language": "python",
   "name": "python3"
  },
  "language_info": {
   "codemirror_mode": {
    "name": "ipython",
    "version": 3
   },
   "file_extension": ".py",
   "mimetype": "text/x-python",
   "name": "python",
   "nbconvert_exporter": "python",
   "pygments_lexer": "ipython3",
   "version": "3.6.4"
  }
 },
 "nbformat": 4,
 "nbformat_minor": 2
}
